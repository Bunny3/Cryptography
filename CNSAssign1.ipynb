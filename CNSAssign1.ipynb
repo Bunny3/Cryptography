{
 "cells": [
  {
   "cell_type": "code",
   "execution_count": 11,
   "metadata": {},
   "outputs": [
    {
     "name": "stdout",
     "output_type": "stream",
     "text": [
      "{'i': 233, 'n': 186, 'd': 114, 'a': 207, 's': 148, 'l': 91, 'o': 150, 'f': 63, 'c': 109, 'e': 283, 't': 205, 'v': 26, 'z': 7, 'm': 56, 'u': 68, 'r': 134, 'g': 41, 'h': 118, 'p': 48, 'x': 3, 'y': 47, 'b': 28, 'w': 33, 'k': 6, 'q': 1, 'j': 1}\n",
      "\n",
      "\n",
      "{'s': 233, 'j': 186, 'v': 114, 'z': 207, 'i': 148, 'g': 91, 'k': 150, 'n': 63, 'c': 109, 'b': 283, 'u': 205, 't': 26, 'q': 7, 'h': 56, 'y': 68, 'o': 134, 'm': 41, 'a': 118, 'l': 48, 'e': 3, 'w': 47, 'x': 28, 'r': 33, 'f': 6, 'p': 1, 'd': 1}\n",
      "###cipher###\n",
      "sjvsz si z gzjv kn zjcsbju cstsgsqzuskj. sjvsz'i ikcszg, bckjkhsc, zjv cyguyozg ckjnsmyozuskji zob uab lokvycui kn z gkjm lokcbii kn obmskjzg belzjiskj. sjvszj asiukow xbmsji rsua uab xsoua kn uab sjvyi tzggbw cstsgsqzuskj zjv uab ckhsjm kn uab zowzji. uabib urk lazibi zob yiyzggw vbicosxbv zi uab lob-tbvsc zjv tbvsc zmb. asjvysih zokib sj uab tbvsc lboskv. uab nsnua cbjuyow izr uab yjsnsczuskj kn sjvsz yjvbo ziakfz, rak azv ckjtboubv uk xyvvasih, zjv su si sj asi obsmj uazu xyvvasih ilobzv sj hzjw lzoui kn zisz. sj uab bsmaua cbjuyow sigzh czhb uk sjvsz nko uab nsoiu ushb zjv xw uab bgbtbjua cbjuyow azv nsohgw biuzxgsiabv suibgn sj sjvsz zi z lkgsusczg nkocb. su obiygubv sjuk uab nkohzuskj kn uab vbgas iyguzjzub, rasca rzi nsjzggw iyccbbvbv xw uab hymazg bhlsob, yjvbo rasca sjvsz kjcb zmzsj zcasbtbv z gzomb hbziyob kn lkgsusczg yjsuw. su rzi sj uab 17ua cbjuyow uazu uab byoklbzji czhb uk sjvsz. uasi cksjcsvbv rsua uab vsisjubmozuskj kn uab hymazg bhlsob, lztsjm uab rzw nko obmskjzg iuzubi. sj uab ckjubiu nko iylobhzcw, uab bjmgsia bhbombv 'tscukoi'. uab obxbggskj kn 1857-58, rasca ikymau uk obiukob sjvszj iylobhzcw, rzi coyiabv; zjv rsua uab iyxibpybju cokrjsjm kn tscukosz zi bhlobii kn sjvsz, uab sjckolkozuskj kn sjvsz sjuk uab bhlsob rzi ckhlgbub. su rzi nkggkrbv xw sjvsz'i iuoymmgb nko sjvblbjvbjcb, rasca rb mku sj uab wbzo 1947.sjvsz ushbgsjb sjvszj ushbgsjb uzfbi yi kj z dkyojbw kn uab asiukow kn uab iyxckjusjbju. osmau nokh uab zjcsbju sjvsz, rasca sjcgyvbv xzjmgzvbia zjv lzfsiuzj, uk uab nobb zjv vstsvbv sjvsz, uasi ushb gsjb cktboi bzca zjv btbow zilbcu obgzubv uk uab lziu zi rbgg zi lobibju kn uab ckyjuow. obzv kj nyouabo uk belgkob uab ushbgsjb kn sjvsz. bckjkhsc asiukow kn sjvsz sjvyi tzggbw cstsgsqzuskj, rasca ngkyosiabv xburbbj 2800 xc zjv 1800 xc, azv zj zvtzjcbv zjv ngkyosiasjm bckjkhsc iwiubh. uab sjvyi tzggbw lbklgb lozcuscbv zmoscyguyob, vkhbiusczubv zjshzgi, hzvb ukkgi zjv rbzlkji nokh ckllbo, xokjqb zjv usj zjv btbj uozvbv rsua ikhb hsvvgb bziu ckyjuosbi. z cowlukcyoobjcw si z vsmsuzg ko tsouyzg cyoobjcw vbismjbv uk rkof zi z hbvsyh kn becazjmb. su yibi cowlukmozlaw uk ibcyob zjv tbosnw uozjizcuskji zi rbgg zi uk ckjuokg uab cobzuskj kn jbr yjsui kn z lzouscygzo cowlukcyoobjcw. biibjuszggw, cowlukcyoobjcsbi zob gshsubv bjuosbi sj z vzuzxzib uazu jk kjb czj cazjmb yjgbii ilbcsnsc ckjvsuskji zob nygnsggbv. uabob aztb xbbj hzjw zuubhlui zu cobzusjm z vsmsuzg cyoobjcw vyosjm uab 90i ubca xkkh, rsua iwiubhi gsfb ngkkq, xbbjq zjv vsmsczia bhbomsjm kj uab hzofbu xyu sjbtsuzxgw nzsgsjm. uabob rbob hzjw vsnnbobju obzikji nko uabso nzsgyobi, iyca zi nozyv, nsjzjcszg lokxgbhi zjv btbj noscuskji xburbbj ckhlzjsbi’ bhlgkwbbi zjv uabso xkiibi.jkuzxgw, zgg kn uakib iwiubhi yusgsqbv z uoyiubv uasov lzouw zllokzca, hbzjsjm uazu uab ckhlzjsbi xbasjv uabh tbosnsbv zjv nzcsgsuzubv uab uozjizcuskji. vyb uk uab nzsgyobi kn uabib ckhlzjsbi, uab cobzuskj kn z vsmsuzg czia iwiubh rzi ibbj zi z gkiu czyib nko z gkjm rasgb.\n",
      "\n",
      " {'z': 'a', 'x': 'b', 'c': 'c', 'v': 'd', 'b': 'e', 'n': 'f', 'm': 'g', 'a': 'h', 's': 'i', 'd': 'j', 'f': 'k', 'g': 'l', 'h': 'm', 'j': 'n', 'k': 'o', 'l': 'p', 'p': 'q', 'o': 'r', 'i': 's', 'u': 't', 'y': 'u', 't': 'v', 'r': 'w', 'e': 'x', 'w': 'y', 'q': 'z'}\n"
     ]
    }
   ],
   "source": [
    "from collections import OrderedDict\n",
    "#text=\"I'm new to python. I have a directory which has many subfolders and files. So in these files I have to replace some specified set of strings to new strings. In java I have done this using HashMap. I have stored the old strings as keys and new strings as their corresponding values. I searched for the key in the hashMap and if I got a hit, I replaced with the corresponding value. Is there something similar to hashMap in Python or can you suggest how to go about this problem.\"\n",
    "f=open('./Assignment1.txt','r')\n",
    "text=f.read().strip();\n",
    "#print(text)\n",
    "\n",
    "text=text.lower();\n",
    "all_freq={}\n",
    "for i in text:\n",
    "    if  not i.isalpha():\n",
    "        continue\n",
    "    if i in all_freq:\n",
    "        all_freq[i]+=1\n",
    "    else:\n",
    "        all_freq[i]=1\n",
    "print(all_freq)\n",
    "f=0;\n",
    "#for k,v in all_freq.items():\n",
    "#    f=max(f,v)\n",
    "#print(f)\n",
    "LETTERS ='ABCDEFGHIJKLMNOPQRSTUVWXYZ'\n",
    "LETTERS=LETTERS.lower()\n",
    "KEY=     'ZXCVBNMASDFGHJKLPOIUYTREWQ'\n",
    "KEY=KEY.lower()\n",
    "#print (KEY)\n",
    "Mapping={}\n",
    "i=0\n",
    "for ch in KEY:\n",
    "    Mapping[ch]=LETTERS[i]\n",
    "    i+=1\n",
    "\n",
    "cipher=\"\"\n",
    "for i in text:\n",
    "    if i.isalpha():\n",
    "        cipher+=KEY[int(ord(i)-97)]\n",
    "        #cipher+=chr((((ord(i)-97)+3)%26)+97)\n",
    "    if not i.isalpha():\n",
    "        cipher+=i\n",
    "#print(text)\n",
    "        \n",
    "all_freq_cipher={}\n",
    "for i in cipher:\n",
    "    if  not i.isalpha():\n",
    "        continue\n",
    "    if i in all_freq_cipher:\n",
    "        all_freq_cipher[i]+=1\n",
    "    else:\n",
    "        all_freq_cipher[i]=1\n",
    "print(\"\\n\")\n",
    "print(all_freq_cipher)\n",
    "f=0;\n",
    "#for k,v in all_freq_cipher.items():\n",
    "#    f=max(f,v)\n",
    "#print(f)\n",
    "print(\"###cipher###\")\n",
    "print(cipher)\n",
    "print(\"\\n\",Mapping)"
   ]
  },
  {
   "cell_type": "code",
   "execution_count": 2,
   "metadata": {},
   "outputs": [
    {
     "name": "stdout",
     "output_type": "stream",
     "text": [
      "e 12.7\n",
      "t 9.1\n",
      "a 8.2\n",
      "o 7.5\n",
      "i 7.0\n",
      "n 6.7\n",
      "s 6.3\n",
      "h 6.1\n",
      "r 6.0\n",
      "d 4.3\n",
      "l 4.0\n",
      "c 2.8\n",
      "u 2.8\n",
      "m 2.4\n",
      "w 2.4\n",
      "f 2.2\n",
      "g 2.0\n",
      "y 2.0\n",
      "p 1.9\n",
      "b 1.5\n",
      "v 1.0\n",
      "k 0.8\n",
      "j 0.15\n",
      "x 0.15\n",
      "q 0.1\n",
      "z 0.07\n",
      "['e', 't', 'a', 'o', 'i', 'n', 's', 'h', 'r', 'd', 'l', 'c', 'u', 'm', 'w', 'f', 'g', 'y', 'p', 'b', 'v', 'k', 'j', 'x', 'q', 'z']\n"
     ]
    }
   ],
   "source": [
    "freq_analysis={'e':12.7,'t':9.1,'a':8.2,'o':7.5,'i':7.0,'n':6.7,'s':6.3,'h':6.1,'r':6.0,'d':4.3,'l':4.0,'c':2.8,'u':2.8,\n",
    "              'm':2.4,'w':2.4,'f':2.2,'g':2.0,'y':2.0,'p':1.9,'b':1.5,'v':1.0,'k':0.8,'j':0.15,'x':0.15,'q':0.10,'z':0.07}\n",
    "#print(len(freq_analysis))\n",
    "analysisOrder=[]\n",
    "for key, value in freq_analysis.items():\n",
    "    print(key, value)\n",
    "    analysisOrder.append(key)\n",
    "print(analysisOrder)"
   ]
  },
  {
   "cell_type": "code",
   "execution_count": 3,
   "metadata": {},
   "outputs": [
    {
     "name": "stdout",
     "output_type": "stream",
     "text": [
      "b 11.762261014131338\n",
      "s 9.68412302576891\n",
      "z 8.603491271820449\n",
      "u 8.520365752285953\n",
      "j 7.73067331670823\n",
      "k 6.234413965087282\n",
      "i 6.151288445552785\n",
      "o 5.569409808811305\n",
      "a 4.904405652535329\n",
      "v 4.738154613466334\n",
      "c 4.530340814630091\n",
      "g 3.7822111388196173\n",
      "y 2.826267664172901\n",
      "n 2.6184538653366585\n",
      "h 2.3275145469659186\n",
      "l 1.99501246882793\n",
      "w 1.9534497090606815\n",
      "m 1.7040731504571904\n",
      "r 1.3715710723192018\n",
      "x 1.1637572734829593\n",
      "t 1.0806317539484622\n",
      "q 0.29093931837073983\n",
      "f 0.24937655860349126\n",
      "e 0.12468827930174563\n",
      "p 0.04156275976724855\n",
      "d 0.04156275976724855\n",
      "['b', 's', 'z', 'u', 'j', 'k', 'i', 'o', 'a', 'v', 'c', 'g', 'y', 'n', 'h', 'l', 'w', 'm', 'r', 'x', 't', 'q', 'f', 'e', 'p', 'd']\n"
     ]
    }
   ],
   "source": [
    "total=sum(all_freq_cipher.values())\n",
    "for k,v in all_freq_cipher.items():\n",
    "    all_freq_cipher[k]=(v/total)*100\n",
    "x=OrderedDict(sorted(all_freq_cipher.items(), key = lambda t: t[1],reverse=True))\n",
    "alphabetOrder=[]\n",
    "for key, value in x.items():\n",
    "    print(key, value)\n",
    "    alphabetOrder.append(key)\n",
    "print(alphabetOrder)"
   ]
  },
  {
   "cell_type": "code",
   "execution_count": 4,
   "metadata": {},
   "outputs": [
    {
     "name": "stdout",
     "output_type": "stream",
     "text": [
      "{'b': 'e', 's': 't', 'z': 'a', 'u': 'o', 'j': 'i', 'k': 'n', 'i': 's', 'o': 'h', 'a': 'r', 'v': 'd', 'c': 'l', 'g': 'c', 'y': 'u', 'n': 'm', 'h': 'w', 'l': 'f', 'w': 'g', 'm': 'y', 'r': 'p', 'x': 'b', 't': 'v', 'q': 'k', 'f': 'j', 'e': 'x', 'p': 'q', 'd': 'z'}\n"
     ]
    }
   ],
   "source": [
    "substitution={}\n",
    "i=0\n",
    "for item in alphabetOrder:\n",
    "    substitution[item]=analysisOrder[i]\n",
    "    i=i+1\n",
    "print(substitution)"
   ]
  },
  {
   "cell_type": "code",
   "execution_count": 5,
   "metadata": {},
   "outputs": [
    {
     "name": "stdout",
     "output_type": "stream",
     "text": [
      "sjvsz si z gzjv kn zjcsbju cstsgsqzuskj. sjvsz'i ikcszg, bckjkhsc, zjv cyguyozg ckjnsmyozuskji zob uab lokvycui kn z gkjm lokcbii kn obmskjzg belzjiskj. sjvszj asiukow xbmsji rsua uab xsoua kn uab sjvyi tzggbw cstsgsqzuskj zjv uab ckhsjm kn uab zowzji. uabib urk lazibi zob yiyzggw vbicosxbv zi uab lob-tbvsc zjv tbvsc zmb. asjvysih zokib sj uab tbvsc lboskv. uab nsnua cbjuyow izr uab yjsnsczuskj kn sjvsz yjvbo ziakfz, rak azv ckjtboubv uk xyvvasih, zjv su si sj asi obsmj uazu xyvvasih ilobzv sj hzjw lzoui kn zisz. sj uab bsmaua cbjuyow sigzh czhb uk sjvsz nko uab nsoiu ushb zjv xw uab bgbtbjua cbjuyow azv nsohgw biuzxgsiabv suibgn sj sjvsz zi z lkgsusczg nkocb. su obiygubv sjuk uab nkohzuskj kn uab vbgas iyguzjzub, rasca rzi nsjzggw iyccbbvbv xw uab hymazg bhlsob, yjvbo rasca sjvsz kjcb zmzsj zcasbtbv z gzomb hbziyob kn lkgsusczg yjsuw. su rzi sj uab 17ua cbjuyow uazu uab byoklbzji czhb uk sjvsz. uasi cksjcsvbv rsua uab vsisjubmozuskj kn uab hymazg bhlsob, lztsjm uab rzw nko obmskjzg iuzubi. sj uab ckjubiu nko iylobhzcw, uab bjmgsia bhbombv 'tscukoi'. uab obxbggskj kn 1857-58, rasca ikymau uk obiukob sjvszj iylobhzcw, rzi coyiabv; zjv rsua uab iyxibpybju cokrjsjm kn tscukosz zi bhlobii kn sjvsz, uab sjckolkozuskj kn sjvsz sjuk uab bhlsob rzi ckhlgbub. su rzi nkggkrbv xw sjvsz'i iuoymmgb nko sjvblbjvbjcb, rasca rb mku sj uab wbzo 1947.sjvsz ushbgsjb sjvszj ushbgsjb uzfbi yi kj z dkyojbw kn uab asiukow kn uab iyxckjusjbju. osmau nokh uab zjcsbju sjvsz, rasca sjcgyvbv xzjmgzvbia zjv lzfsiuzj, uk uab nobb zjv vstsvbv sjvsz, uasi ushb gsjb cktboi bzca zjv btbow zilbcu obgzubv uk uab lziu zi rbgg zi lobibju kn uab ckyjuow. obzv kj nyouabo uk belgkob uab ushbgsjb kn sjvsz. bckjkhsc asiukow kn sjvsz sjvyi tzggbw cstsgsqzuskj, rasca ngkyosiabv xburbbj 2800 xc zjv 1800 xc, azv zj zvtzjcbv zjv ngkyosiasjm bckjkhsc iwiubh. uab sjvyi tzggbw lbklgb lozcuscbv zmoscyguyob, vkhbiusczubv zjshzgi, hzvb ukkgi zjv rbzlkji nokh ckllbo, xokjqb zjv usj zjv btbj uozvbv rsua ikhb hsvvgb bziu ckyjuosbi. z cowlukcyoobjcw si z vsmsuzg ko tsouyzg cyoobjcw vbismjbv uk rkof zi z hbvsyh kn becazjmb. su yibi cowlukmozlaw uk ibcyob zjv tbosnw uozjizcuskji zi rbgg zi uk ckjuokg uab cobzuskj kn jbr yjsui kn z lzouscygzo cowlukcyoobjcw. biibjuszggw, cowlukcyoobjcsbi zob gshsubv bjuosbi sj z vzuzxzib uazu jk kjb czj cazjmb yjgbii ilbcsnsc ckjvsuskji zob nygnsggbv. uabob aztb xbbj hzjw zuubhlui zu cobzusjm z vsmsuzg cyoobjcw vyosjm uab 90i ubca xkkh, rsua iwiubhi gsfb ngkkq, xbbjq zjv vsmsczia bhbomsjm kj uab hzofbu xyu sjbtsuzxgw nzsgsjm. uabob rbob hzjw vsnnbobju obzikji nko uabso nzsgyobi, iyca zi nozyv, nsjzjcszg lokxgbhi zjv btbj noscuskji xburbbj ckhlzjsbi’ bhlgkwbbi zjv uabso xkiibi.jkuzxgw, zgg kn uakib iwiubhi yusgsqbv z uoyiubv uasov lzouw zllokzca, hbzjsjm uazu uab ckhlzjsbi xbasjv uabh tbosnsbv zjv nzcsgsuzubv uab uozjizcuskji. vyb uk uab nzsgyobi kn uabib ckhlzjsbi, uab cobzuskj kn z vsmsuzg czia iwiubh rzi ibbj zi z gkiu czyib nko z gkjm rasgb.\n"
     ]
    }
   ],
   "source": [
    "print(cipher)"
   ]
  },
  {
   "cell_type": "code",
   "execution_count": 6,
   "metadata": {},
   "outputs": [
    {
     "name": "stdout",
     "output_type": "stream",
     "text": [
      "tidta ts a caid nm ailteio ltvtctkaotni. tidta's snltac, elninwtl, aid lucouhac lnimtyuhaotnis ahe ore fhndulos nm a cniy fhnless nm heytniac exfaistni. tidtai rtsonhg beytis ptor ore bthor nm ore tidus vacceg ltvtctkaotni aid ore lnwtiy nm ore ahgais. orese opn frases ahe usuaccg deslhtbed as ore fhe-vedtl aid vedtl aye. rtidutsw ahnse ti ore vedtl fehtnd. ore mtmor leiouhg sap ore uitmtlaotni nm tidta uideh asrnja, prn rad lnivehoed on buddrtsw, aid to ts ti rts hetyi orao buddrtsw sfhead ti waig fahos nm asta. ti ore etyror leiouhg tscaw lawe on tidta mnh ore mthso otwe aid bg ore eceveior leiouhg rad mthwcg esoabctsred tosecm ti tidta as a fnctotlac mnhle. to hesucoed tion ore mnhwaotni nm ore decrt sucoaiaoe, prtlr pas mtiaccg sulleeded bg ore wuyrac ewfthe, uideh prtlr tidta nile ayati alrteved a cahye weasuhe nm fnctotlac uitog. to pas ti ore 17or leiouhg orao ore euhnfeais lawe on tidta. orts lntiltded ptor ore dtstioeyhaotni nm ore wuyrac ewfthe, favtiy ore pag mnh heytniac soaoes. ti ore lnioeso mnh sufhewalg, ore eiyctsr ewehyed 'vtlonhs'. ore hebecctni nm 1857-58, prtlr snuyro on hesonhe tidtai sufhewalg, pas lhusred; aid ptor ore subsequeio lhnpitiy nm vtlonhta as ewfhess nm tidta, ore tilnhfnhaotni nm tidta tion ore ewfthe pas lnwfceoe. to pas mnccnped bg tidta's sohuyyce mnh tidefeideile, prtlr pe yno ti ore geah 1947.tidta otwectie tidtai otwectie oajes us ni a znuhieg nm ore rtsonhg nm ore sublniotieio. htyro mhnw ore ailteio tidta, prtlr tilcuded baiycadesr aid fajtsoai, on ore mhee aid dtvtded tidta, orts otwe ctie lnvehs ealr aid evehg asfelo hecaoed on ore faso as pecc as fheseio nm ore lnuiohg. head ni muhoreh on exfcnhe ore otwectie nm tidta. elninwtl rtsonhg nm tidta tidus vacceg ltvtctkaotni, prtlr mcnuhtsred beopeei 2800 bl aid 1800 bl, rad ai advailed aid mcnuhtsrtiy elninwtl sgsoew. ore tidus vacceg fenfce fhalotled ayhtlucouhe, dnwesotlaoed aitwacs, wade onncs aid peafnis mhnw lnffeh, bhnike aid oti aid evei ohaded ptor snwe wtddce easo lnuiohtes. a lhgfonluhheilg ts a dtytoac nh vthouac luhheilg destyied on pnhj as a wedtuw nm exlraiye. to uses lhgfonyhafrg on seluhe aid vehtmg ohaisalotnis as pecc as on lniohnc ore lheaotni nm iep uitos nm a fahotlucah lhgfonluhheilg. esseiotaccg, lhgfonluhheiltes ahe ctwtoed eiohtes ti a daoabase orao in nie lai lraiye uicess sfeltmtl lnidtotnis ahe mucmtcced. orehe rave beei waig aooewfos ao lheaotiy a dtytoac luhheilg duhtiy ore 90s oelr bnnw, ptor sgsoews ctje mcnnk, beeik aid dtytlasr ewehytiy ni ore wahjeo buo tievtoabcg matctiy. orehe pehe waig dtmmeheio heasnis mnh oreth matcuhes, sulr as mhaud, mtiailtac fhnbcews aid evei mhtlotnis beopeei lnwfaites’ ewfcngees aid oreth bnsses.inoabcg, acc nm ornse sgsoews uotctked a ohusoed orthd fahog affhnalr, weaitiy orao ore lnwfaites bertid orew vehtmted aid maltctoaoed ore ohaisalotnis. due on ore matcuhes nm orese lnwfaites, ore lheaotni nm a dtytoac lasr sgsoew pas seei as a cnso lause mnh a cniy prtce.\n",
      "\n",
      "\n",
      "\n",
      "\n"
     ]
    }
   ],
   "source": [
    "decipher=\"\"\n",
    "for ch in cipher:\n",
    "    try:\n",
    "        decipher+=substitution[ch]\n",
    "    except:\n",
    "        decipher+=ch\n",
    "print(decipher)\n",
    "print(\"\\n\")\n",
    "#print(text)\n",
    "print(\"\\n\")\n",
    "#print(cipher)"
   ]
  },
  {
   "cell_type": "code",
   "execution_count": 7,
   "metadata": {},
   "outputs": [],
   "source": [
    "#import matplotlib.pyplot as plt\n",
    "\n",
    "#D = {u'Label1':26, u'Label2': 17, u'Label3':30}\n",
    "\n",
    "#plt.bar(range(len(all_freq)), all_freq.values(), align='center')\n",
    "#plt.xticks(range(len(all_freq)), list(all_freq.keys()))\n",
    "\n",
    "#plt.show()"
   ]
  },
  {
   "cell_type": "code",
   "execution_count": 8,
   "metadata": {},
   "outputs": [
    {
     "name": "stdout",
     "output_type": "stream",
     "text": [
      "india is a land of ancient civilization. india's social, economic, and cultural configurations are the products of a long process of regional expansion. indian history begins with the birth of the indus valley civilization and the coming of the aryans. these two phases are usually described as the pre-vedic and vedic age. hinduism arose in the vedic period. the fifth century saw the unification of india under ashoka, who had converted to buddhism, and it is in his reign that buddhism spread in many parts of asia. in the eighth century islam came to india for the first time and by the eleventh century had firmly established itself in india as a political force. it resulted into the formation of the delhi sultanate, which was finally succeeded by the mughal empire, under which india once again achieved a large measure of political unity. it was in the th century that the europeans came to india. this coincided with the disintegration of the mughal empire, paving the way for regional states. in the contest for supremacy, the english emerged 'victors'. the rebellion of -, which sought to restore indian supremacy, was crushed; and with the subsequent crowning of victoria as empress of india, the incorporation of india into the empire was complete. it was followed by india's struggle for independence, which we got in the year .india timeline indian timeline takes us on a journey of the history of the subcontinent. right from the ancient india, which included bangladesh and pakistan, to the free and divided india, this time line covers each and every aspect related to the past as well as present of the country. read on further to explore the timeline of india. economic history of india indus valley civilization, which flourished between  bc and  bc, had an advanced and flourishing economic system. the indus valley people practiced agriculture, domesticated animals, made tools and weapons from copper, bronze and tin and even traded with some middle east countries. a cryptocurrency is a digital or virtual currency designed to work as a medium of exchange. it uses cryptography to secure and verify transactions as well as to control the creation of new units of a particular cryptocurrency. essentially, cryptocurrencies are limited entries in a database that no one can change unless specific conditions are fulfilled. there have been many attempts at creating a digital currency during the s tech boom, with systems like flooz, beenz and digicash emerging on the market but inevitably failing. there were many different reasons for their failures, such as fraud, financial problems and even frictions between companies’ employees and their bosses.notably, all of those systems utilized a trusted third party approach, meaning that the companies behind them verified and facilitated the transactions. due to the failures of these companies, the creation of a digital cash system was seen as a lost cause for a long while.\n"
     ]
    }
   ],
   "source": [
    "decipher2=\"\"\n",
    "for i in cipher:\n",
    "    if i.isalpha():\n",
    "        decipher2+=Mapping[i]\n",
    "    if not i.isalnum():\n",
    "        decipher2+=i\n",
    "print(decipher2)"
   ]
  },
  {
   "cell_type": "code",
   "execution_count": 9,
   "metadata": {},
   "outputs": [
    {
     "name": "stdout",
     "output_type": "stream",
     "text": [
      "{'z': 'a', 'x': 'b', 'c': 'c', 'v': 'd', 'b': 'e', 'n': 'f', 'm': 'g', 'a': 'h', 's': 'i', 'd': 'j', 'f': 'k', 'g': 'l', 'h': 'm', 'j': 'n', 'k': 'o', 'l': 'p', 'p': 'q', 'o': 'r', 'i': 's', 'u': 't', 'y': 'u', 't': 'v', 'r': 'w', 'e': 'x', 'w': 'y', 'q': 'z'}\n"
     ]
    }
   ],
   "source": [
    "print(Mapping)"
   ]
  },
  {
   "cell_type": "code",
   "execution_count": 10,
   "metadata": {},
   "outputs": [
    {
     "name": "stdout",
     "output_type": "stream",
     "text": [
      "error % is 65.38\n",
      "accuracy % is 34.62\n"
     ]
    }
   ],
   "source": [
    "#Calculate Accuracy\n",
    "err=0\n",
    "for k,v in substitution.items():\n",
    "    if not(v==Mapping[k]):\n",
    "        err+=1\n",
    "print(\"error % is\",\"{:.2f}\".format((err/26)*100))\n",
    "print(\"accuracy % is\",\"{:.2f}\".format(100-(err/26)*100))"
   ]
  },
  {
   "cell_type": "code",
   "execution_count": null,
   "metadata": {},
   "outputs": [],
   "source": []
  },
  {
   "cell_type": "code",
   "execution_count": null,
   "metadata": {},
   "outputs": [],
   "source": []
  }
 ],
 "metadata": {
  "kernelspec": {
   "display_name": "Python 3",
   "language": "python",
   "name": "python3"
  },
  "language_info": {
   "codemirror_mode": {
    "name": "ipython",
    "version": 3
   },
   "file_extension": ".py",
   "mimetype": "text/x-python",
   "name": "python",
   "nbconvert_exporter": "python",
   "pygments_lexer": "ipython3",
   "version": "3.6.7"
  }
 },
 "nbformat": 4,
 "nbformat_minor": 2
}
